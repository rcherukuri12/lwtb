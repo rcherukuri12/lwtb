{
 "cells": [
  {
   "cell_type": "markdown",
   "metadata": {},
   "source": [
    "This example shows how to generate gamma distribution and\n",
    "view it in Tensorboard as histogram showing the range."
   ]
  },
  {
   "cell_type": "code",
   "execution_count": 5,
   "metadata": {
    "collapsed": true
   },
   "outputs": [],
   "source": [
    "import tensorflow as tf"
   ]
  },
  {
   "cell_type": "code",
   "execution_count": 8,
   "metadata": {
    "collapsed": true
   },
   "outputs": [],
   "source": [
    "n = 500000\n",
    "# Make a gamma distribution of 500k points\n",
    "B = tf.contrib.distributions.Gamma(3.0, 2.0).sample(n)"
   ]
  },
  {
   "cell_type": "code",
   "execution_count": 9,
   "metadata": {
    "collapsed": true
   },
   "outputs": [],
   "source": [
    "logs_path=\"/tmp/logs/2/3\"\n",
    "# create a summary \n",
    "with tf.name_scope('input'):\n",
    "    tf.summary.histogram(\"gamma\",B)\n",
    "    summary_op = tf.summary.merge_all()"
   ]
  },
  {
   "cell_type": "code",
   "execution_count": 10,
   "metadata": {
    "collapsed": true
   },
   "outputs": [],
   "source": [
    "init  =  tf.global_variables_initializer ()\n",
    "with tf.Session() as sess:\n",
    "    sess.run(init)\n",
    "    # create log writer object\n",
    "    writer = tf.summary.FileWriter(logs_path,sess.graph)\n",
    "    b,summary = sess.run([B,summary_op]) \n",
    "    writer.add_summary(summary)    \n",
    "writer.close()"
   ]
  },
  {
   "cell_type": "code",
   "execution_count": null,
   "metadata": {
    "collapsed": true
   },
   "outputs": [],
   "source": []
  },
  {
   "cell_type": "code",
   "execution_count": null,
   "metadata": {
    "collapsed": true
   },
   "outputs": [],
   "source": []
  }
 ],
 "metadata": {
  "kernelspec": {
   "display_name": "Python 3",
   "language": "python",
   "name": "python3"
  },
  "language_info": {
   "codemirror_mode": {
    "name": "ipython",
    "version": 3
   },
   "file_extension": ".py",
   "mimetype": "text/x-python",
   "name": "python",
   "nbconvert_exporter": "python",
   "pygments_lexer": "ipython3",
   "version": "3.6.1"
  }
 },
 "nbformat": 4,
 "nbformat_minor": 2
}
